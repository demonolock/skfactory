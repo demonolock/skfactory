{
 "cells": [
  {
   "cell_type": "code",
   "execution_count": 7,
   "metadata": {
    "_cell_guid": "b1076dfc-b9ad-4769-8c92-a6c4dae69d19",
    "_uuid": "8f2839f25d086af736a60e9eeb907d3b93b6e0e5"
   },
   "outputs": [
    {
     "name": "stdout",
     "output_type": "stream",
     "text": [
      "./kaggle/input\\sf-dst-scoring\\sample_submission.csv\n",
      "./kaggle/input\\sf-dst-scoring\\test.csv\n",
      "./kaggle/input\\sf-dst-scoring\\train.csv\n"
     ]
    }
   ],
   "source": [
    "from pandas import Series\n",
    "import pandas as pd\n",
    "import numpy as np\n",
    "\n",
    "\n",
    "import matplotlib.pyplot as plt\n",
    "import seaborn as sns\n",
    "\n",
    "from sklearn.feature_selection import f_classif, mutual_info_classif\n",
    "from sklearn.preprocessing import LabelEncoder, OneHotEncoder, StandardScaler, QuantileTransformer, PowerTransformer\n",
    "\n",
    "from sklearn.model_selection import train_test_split\n",
    "from sklearn.linear_model import LogisticRegression\n",
    "\n",
    "from sklearn.metrics import confusion_matrix\n",
    "from sklearn.metrics import auc, roc_auc_score, roc_curve, mean_absolute_error\n",
    "\n",
    "import os\n",
    "for dirname, _, filenames in os.walk('./kaggle/input'):\n",
    "    for filename in filenames:\n",
    "        print(os.path.join(dirname, filename))"
   ]
  },
  {
   "cell_type": "code",
   "execution_count": 2,
   "metadata": {},
   "outputs": [],
   "source": [
    "# Информация о выбросах\n",
    "def outlines_info(column):\n",
    "    # график\n",
    "    plt.figure();\n",
    "    sns.boxplot(column);\n",
    "    plt.show();\n",
    "    # выбросы\n",
    "    q1, q3 = np.percentile(column, [25, 75])\n",
    "    iqr = q3 - q1\n",
    "    low_bound = q1 - (iqr * 1.5)\n",
    "    up_bound = q3 + (iqr * 1.5)\n",
    "    print(low_bound, up_bound)\n",
    "    print(\"Процент значений за границей: {}%\".format(len(column[((column > up_bound) | (column < low_bound))])* 100/len(column)))"
   ]
  },
  {
   "cell_type": "code",
   "execution_count": 3,
   "metadata": {},
   "outputs": [],
   "source": [
    "# Граничные значения по колонке\n",
    "def get_bounds(column):\n",
    "    q1, q3 = np.percentile(column, [25, 75])\n",
    "    iqr = q3 - q1\n",
    "    low_bound = q1 - (iqr * 1.5)\n",
    "    up_bound = q3 + (iqr * 1.5)\n",
    "    return low_bound, up_bound"
   ]
  },
  {
   "cell_type": "code",
   "execution_count": 4,
   "metadata": {},
   "outputs": [],
   "source": [
    "# Удаление выбросов\n",
    "def remove_outlines(df, column):\n",
    "    low_bound, up_bound = get_bounds(df[column])\n",
    "    print(len(df))\n",
    "    return df.loc[df[column].between(low_bound, up_bound)]"
   ]
  },
  {
   "cell_type": "code",
   "execution_count": 5,
   "metadata": {
    "_cell_guid": "79c7e3d0-c299-4dcb-8224-4455121ee9b0",
    "_uuid": "d629ff2d2480ee46fbb7e2d37f6b5fab8052498a"
   },
   "outputs": [],
   "source": [
    "# Зафиксируем версию пакетов и random_seed, для воспроизводимости эксперимента\n",
    "!pip freeze > requirements.txt\n",
    "random_seed = 31\n"
   ]
  },
  {
   "cell_type": "code",
   "execution_count": 8,
   "metadata": {},
   "outputs": [
    {
     "name": "stdout",
     "output_type": "stream",
     "text": [
      "<class 'pandas.core.frame.DataFrame'>\n",
      "RangeIndex: 73799 entries, 0 to 73798\n",
      "Data columns (total 19 columns):\n",
      " #   Column            Non-Null Count  Dtype  \n",
      "---  ------            --------------  -----  \n",
      " 0   client_id         73799 non-null  int64  \n",
      " 1   app_date          73799 non-null  object \n",
      " 2   education         73492 non-null  object \n",
      " 3   sex               73799 non-null  object \n",
      " 4   age               73799 non-null  int64  \n",
      " 5   car               73799 non-null  object \n",
      " 6   car_type          73799 non-null  object \n",
      " 7   decline_app_cnt   73799 non-null  int64  \n",
      " 8   good_work         73799 non-null  int64  \n",
      " 9   score_bki         73799 non-null  float64\n",
      " 10  bki_request_cnt   73799 non-null  int64  \n",
      " 11  region_rating     73799 non-null  int64  \n",
      " 12  home_address      73799 non-null  int64  \n",
      " 13  work_address      73799 non-null  int64  \n",
      " 14  income            73799 non-null  int64  \n",
      " 15  sna               73799 non-null  int64  \n",
      " 16  first_time        73799 non-null  int64  \n",
      " 17  foreign_passport  73799 non-null  object \n",
      " 18  default           73799 non-null  int64  \n",
      "dtypes: float64(1), int64(12), object(6)\n",
      "memory usage: 10.7+ MB\n"
     ]
    }
   ],
   "source": [
    "df_test = pd.read_csv(\"./kaggle/input/sf-dst-scoring/test.csv\")\n",
    "df_train = pd.read_csv(\"./kaggle/input/sf-dst-scoring/train.csv\")\n",
    "df_train.info()"
   ]
  },
  {
   "cell_type": "markdown",
   "metadata": {},
   "source": [
    "Описание данных\n",
    "```\n",
    "client_id                идентификатор клиента\n",
    "education                уровень образования\n",
    "sex                      пол заёмщика\n",
    "age                      возраст заёмщика\n",
    "car                      флаг наличия автомобиля\n",
    "car_type                 флаг автомобиля-иномарки\n",
    "decline_app_cnt          количество отказанных прошлых заявок\n",
    "good_work                флаг наличия «хорошей» работы\n",
    "bki_request_cnt          количество запросов в БКИ\n",
    "home_address             категоризатор домашнего адреса\n",
    "work_address             категоризатор рабочего адреса\n",
    "income                   доход заёмщика\n",
    "foreign_passport         наличие загранпаспорта\n",
    "sna                      связь заемщика с клиентами банка\n",
    "first_time               давность наличия информации о заемщике\n",
    "score_bki                скоринговый балл по данным из БКИ\n",
    "region_rating            рейтинг региона\n",
    "app_date                 дата подачи заявки\n",
    "default                  наличие дефолта\n",
    "```\n",
    "\n",
    "Целевая переменная:\n",
    "\n",
    "`default`\n",
    "\n",
    "Признаки c пропусками:\n",
    "\n",
    "`education`\n",
    "\n",
    "Бинарные переменные:\n",
    "\n",
    "```\n",
    "sex\n",
    "car\n",
    "car_type\n",
    "foreign_passport\n",
    "good_work\n",
    "```\n",
    "\n",
    "Категориальные переменные:\n",
    "\n",
    "```\n",
    "education\n",
    "work_address\n",
    "home_address\n",
    "sna\n",
    "first_time\n",
    "region_rating\n",
    "app_date\n",
    "```\n",
    "\n",
    "Числовые переменные:\n",
    "```\n",
    "age\n",
    "decline_app_cnt\n",
    "income\n",
    "bki_request_cnt\n",
    "score_bki\n",
    "```"
   ]
  },
  {
   "cell_type": "code",
   "execution_count": null,
   "metadata": {},
   "outputs": [],
   "source": [
    "# Посмотрим выборку на сбалансированность\n",
    "\n",
    "df_train.default.value_counts().plot.barh();"
   ]
  },
  {
   "cell_type": "markdown",
   "metadata": {},
   "source": [
    "Клиентов без дефолта у банка значительно больше. Выборка несбалансированна, но мы можем попробовать это компенсировать с помощью гиперпараметра логистической регрессии `class_weight`"
   ]
  },
  {
   "cell_type": "markdown",
   "metadata": {},
   "source": [
    "## 1. Предобработка данных"
   ]
  },
  {
   "cell_type": "markdown",
   "metadata": {},
   "source": [
    "### Заполнение пропусков"
   ]
  },
  {
   "cell_type": "code",
   "execution_count": null,
   "metadata": {},
   "outputs": [],
   "source": [
    "# Посмотрим на столбец с пропусками\n",
    "\n",
    "df_train.education.value_counts(dropna=False)"
   ]
  },
  {
   "cell_type": "markdown",
   "metadata": {},
   "source": [
    "Значений с пропусками немного, но все же в 1.5 раза больше, чем со значением 'ACD'. Скорее всего, заполнив наиболее часто встречающимся значением 'SCH' мы потерям часть информации. Поэтому создадим новый признак 'NAN_EDU'"
   ]
  },
  {
   "cell_type": "code",
   "execution_count": null,
   "metadata": {},
   "outputs": [],
   "source": [
    "df_train.education.fillna('NAN_EDU',inplace=True)\n",
    "df_test.education.fillna('NAN_EDU',inplace=True)"
   ]
  },
  {
   "cell_type": "markdown",
   "metadata": {},
   "source": [
    "### Подготовка данных для обучения модели"
   ]
  },
  {
   "cell_type": "markdown",
   "metadata": {},
   "source": [
    "Разделим столбцы по типам переменных"
   ]
  },
  {
   "cell_type": "code",
   "execution_count": null,
   "metadata": {},
   "outputs": [],
   "source": [
    "# бинарные переменные\n",
    "bin_cols = ['sex', 'car', 'car_type', 'good_work', 'foreign_passport']\n",
    "\n",
    "# категориальные переменные\n",
    "cat_cols = ['education', 'work_address', 'home_address', 'sna', 'first_time', 'region_rating']\n",
    "\n",
    "# числовые переменные\n",
    "num_cols = ['age', 'decline_app_cnt', 'bki_request_cnt', 'income', 'score_bki']"
   ]
  },
  {
   "cell_type": "markdown",
   "metadata": {},
   "source": [
    "Посмотрим на распределение числовых переменных"
   ]
  },
  {
   "cell_type": "code",
   "execution_count": null,
   "metadata": {},
   "outputs": [],
   "source": [
    "for i in num_cols:\n",
    "    plt.figure()\n",
    "    sns.distplot(df_train[i], kde = False, rug=False, bins = 100)\n",
    "    plt.title(i)\n",
    "    plt.show()"
   ]
  },
  {
   "cell_type": "markdown",
   "metadata": {},
   "source": [
    "После построения гистограмм стало видно, что распределения числовых переменных `income`, `bki_request_count`, `decline_app_cnt`, `age` смещены влево от нормального распределения. Чтобы сделать распределение более нормальным, можно работать с логарифмированными величинами этих переменных. `score_bki` распределен нормально, поэтому преобразование не требуется."
   ]
  },
  {
   "cell_type": "code",
   "execution_count": null,
   "metadata": {},
   "outputs": [],
   "source": [
    "df_train.income = np.log(df_train.income)\n",
    "df_train.age = np.log(df_train.age)\n",
    "df_train.bki_request_cnt = np.log(df_train.bki_request_cnt + 1) # +1 для предотвращения взятия логарифма от 0\n",
    "df_train.decline_app_cnt = np.log(df_train.decline_app_cnt + 1)"
   ]
  },
  {
   "cell_type": "markdown",
   "metadata": {},
   "source": [
    "### Выбросы"
   ]
  },
  {
   "cell_type": "code",
   "execution_count": null,
   "metadata": {},
   "outputs": [],
   "source": [
    "for column in num_cols:\n",
    "    outlines_info(df_train[column]);"
   ]
  },
  {
   "cell_type": "markdown",
   "metadata": {},
   "source": [
    "Очистим выбросы там, где их меньше 5% `score_bki`, `income` и `bki_request_cnt`"
   ]
  },
  {
   "cell_type": "code",
   "execution_count": null,
   "metadata": {},
   "outputs": [],
   "source": [
    "df_train = remove_outlines(df_train, \"score_bki\")\n",
    "df_train = remove_outlines(df_train, \"income\")\n",
    "df_train = remove_outlines(df_train, \"bki_request_cnt\")"
   ]
  },
  {
   "cell_type": "markdown",
   "metadata": {},
   "source": [
    "### Корреляция"
   ]
  },
  {
   "attachments": {
    "image.png": {
     "image/png": "[encoded data removed]"
    }
   },
   "cell_type": "markdown",
   "metadata": {},
   "source": [
    "Оценим корреляцию Пирсона для непрерывных переменных по формуле:\n",
    "\n",
    "![image.png](attachment:image.png)"
   ]
  },
  {
   "cell_type": "code",
   "execution_count": null,
   "metadata": {},
   "outputs": [],
   "source": [
    "plt.subplots(figsize=(10, 7))\n",
    "sns.heatmap(df_train[num_cols].corr().abs(), vmin=0, vmax=1);"
   ]
  },
  {
   "cell_type": "markdown",
   "metadata": {},
   "source": [
    "Взаимосвязь пар числовых признаков по Пирсону слабая, поэтому убирать ничего не нужно"
   ]
  },
  {
   "cell_type": "markdown",
   "metadata": {},
   "source": [
    "### Значимость числовых признаков"
   ]
  },
  {
   "cell_type": "markdown",
   "metadata": {},
   "source": [
    "Для оценки значимости числовых переменных будем использовать функцию f_classif из библиотеки sklearn.\n",
    "\n",
    "Возможности модуля sklearn.feature_selection могут быть использованы не только для выбора важных признаков, но и для уменьшения размерности, улучшения предсказательной силы моделей, либо для повышения их производительности на очень многомерных наборах данных.\n",
    "\n",
    "В основе метода оценки значимости переменных лежит однофакторный дисперсионный анализ (ANOVA). Основу процедуры составляет обобщение результатов двух выборочных t-тестов для независимых выборок (2-sample t).\n",
    "\n",
    "В качестве меры значимости мы будем использовать значение f-статистики. Чем значение статистики выше, тем меньше вероятность того, что средние значения не отличаются, и тем важнее данный признак для нашей линейной модели."
   ]
  },
  {
   "cell_type": "code",
   "execution_count": null,
   "metadata": {},
   "outputs": [],
   "source": [
    "imp_num = Series(f_classif(df_train[num_cols], df_train.default)[0], index = num_cols)\n",
    "imp_num.sort_values(inplace = True)\n",
    "imp_num.plot(kind = 'barh');"
   ]
  },
  {
   "cell_type": "markdown",
   "metadata": {},
   "source": [
    "Наименее важным признаком оказался возраст"
   ]
  },
  {
   "cell_type": "code",
   "execution_count": null,
   "metadata": {},
   "outputs": [],
   "source": [
    "# Преобразуем бинарные признаки с помощью LabelEncoder\n",
    "\n",
    "label_encoder = LabelEncoder()\n",
    "\n",
    "for column in bin_cols:\n",
    "    df_train[column] = label_encoder.fit_transform(df_train[column])\n",
    "df_train"
   ]
  },
  {
   "cell_type": "code",
   "execution_count": null,
   "metadata": {},
   "outputs": [],
   "source": [
    "for column in bin_cols:\n",
    "    df_test[column] = label_encoder.fit_transform(df_test[column])\n",
    "df_test"
   ]
  },
  {
   "cell_type": "code",
   "execution_count": null,
   "metadata": {},
   "outputs": [],
   "source": [
    "# Преобразуем категориальные признаки с помощью OneHotEncoder\n",
    "\n",
    "X_cat = OneHotEncoder(sparse = False).fit_transform(df_train[cat_cols].values)\n",
    "df_train"
   ]
  },
  {
   "cell_type": "code",
   "execution_count": null,
   "metadata": {},
   "outputs": [],
   "source": [
    "X_cat_test = OneHotEncoder(sparse = False).fit_transform(df_test[cat_cols].values)"
   ]
  },
  {
   "cell_type": "markdown",
   "metadata": {},
   "source": [
    "Признак `app_date` тоже категориальный, но преобразование с помощью OneHotEncoder обесценит информацию от него"
   ]
  },
  {
   "cell_type": "code",
   "execution_count": null,
   "metadata": {},
   "outputs": [],
   "source": [
    "# Преобразуем строку в datetime формат\n",
    "df_train.app_date = pd.to_datetime(df_train.app_date, format='%d%b%Y')\n",
    "# Заменим app_date на количество дней с первой даты в данных\n",
    "min_date = df_train.app_date.min()\n",
    "df_train['app_date'] = (df_train.app_date - min_date).dt.days.astype('int')\n",
    "df_train"
   ]
  },
  {
   "cell_type": "code",
   "execution_count": null,
   "metadata": {},
   "outputs": [],
   "source": [
    "# Аналогично для тестовой\n",
    "\n",
    "df_test.app_date = pd.to_datetime(df_test.app_date, format='%d%b%Y')\n",
    "min_date = df_test.app_date.min()\n",
    "df_test['app_date'] = (df_test.app_date - min_date).dt.days.astype('int')\n",
    "df_test"
   ]
  },
  {
   "cell_type": "code",
   "execution_count": null,
   "metadata": {},
   "outputs": [],
   "source": [
    "df_train.education = label_encoder.fit_transform(df_train.education)\n",
    "df_test.education = label_encoder.fit_transform(df_test.education)"
   ]
  },
  {
   "cell_type": "markdown",
   "metadata": {},
   "source": [
    "### Значимость для категориальных признаков"
   ]
  },
  {
   "cell_type": "code",
   "execution_count": null,
   "metadata": {},
   "outputs": [],
   "source": [
    "imp_cat = Series(mutual_info_classif(df_train[bin_cols + cat_cols], df_train['default'], discrete_features =True), index = bin_cols + cat_cols)\n",
    "imp_cat.sort_values(inplace = True)\n",
    "imp_cat.plot(kind = 'barh');"
   ]
  },
  {
   "cell_type": "markdown",
   "metadata": {},
   "source": [
    "Признаки `sex`, `car`,`good_work` являются наименее важными"
   ]
  },
  {
   "cell_type": "code",
   "execution_count": null,
   "metadata": {},
   "outputs": [],
   "source": [
    "# Стандартизация числовых переменных\n",
    "X_num_train = StandardScaler().fit_transform(df_train[num_cols].values)\n",
    "# Объединяем\n",
    "X = np.hstack([X_num_train, df_train[bin_cols].values, X_cat])\n",
    "Y = df_train['default'].values"
   ]
  },
  {
   "cell_type": "code",
   "execution_count": null,
   "metadata": {},
   "outputs": [],
   "source": [
    "X_num_test = StandardScaler().fit_transform(df_test[num_cols].values)\n",
    "X_test = np.hstack([X_num_test, df_test[bin_cols].values, X_cat_test])"
   ]
  },
  {
   "cell_type": "markdown",
   "metadata": {},
   "source": [
    "Удалим наименее значимые признаки `sex` и `age`"
   ]
  },
  {
   "cell_type": "code",
   "execution_count": null,
   "metadata": {},
   "outputs": [],
   "source": [
    "df_train.drop(['sex', 'age'], axis='columns', inplace=True)\n",
    "df_train"
   ]
  },
  {
   "cell_type": "markdown",
   "metadata": {},
   "source": [
    "## Построение модели"
   ]
  },
  {
   "cell_type": "code",
   "execution_count": null,
   "metadata": {},
   "outputs": [],
   "source": [
    "# Разделим данные для проверки модели\n",
    "\n",
    "x_train, x_test, y_train, y_test = train_test_split(X, Y, test_size=0.20, random_state=random_seed)"
   ]
  },
  {
   "cell_type": "code",
   "execution_count": null,
   "metadata": {},
   "outputs": [],
   "source": [
    "# Создаём модель\n",
    "model = LogisticRegression()\n",
    "\n",
    "# Обучаем модель на тестовом наборе данных\n",
    "model.fit(x_train,y_train)\n",
    "\n",
    "# Используем обученную модель для предсказания рейтинга ресторанов в тестовой выборке.\n",
    "# Предсказанные значения записываем в переменную y_pred\n",
    "probs = model.predict_proba(x_test)\n",
    "probs = probs[:,1]"
   ]
  },
  {
   "cell_type": "code",
   "execution_count": null,
   "metadata": {},
   "outputs": [],
   "source": [
    "# Сравниваем предсказанные значения (probs) с реальными (y_test)\n",
    "fpr, tpr, threshold = roc_curve(y_test, probs)\n",
    "\n",
    "roc_auc = roc_auc_score(y_test, probs)\n",
    "plt.figure()\n",
    "plt.plot([0, 1], label='Baseline', linestyle='--')\n",
    "plt.plot(fpr, tpr, label = 'Regression')\n",
    "plt.title('Logistic Regression ROC AUC = %0.3f' % roc_auc)\n",
    "plt.ylabel('True Positive Rate')\n",
    "plt.xlabel('False Positive Rate')\n",
    "plt.legend(loc = 'lower right')\n",
    "plt.show()"
   ]
  },
  {
   "cell_type": "markdown",
   "metadata": {},
   "source": [
    "### Подбор гиперпараметров"
   ]
  },
  {
   "cell_type": "code",
   "execution_count": null,
   "metadata": {},
   "outputs": [],
   "source": [
    "%%time\n",
    "from sklearn.model_selection import GridSearchCV\n",
    "import warnings\n",
    "warnings.filterwarnings(\"ignore\")\n",
    "\n",
    "# Добавим типы регуляризации\n",
    "penalty = ['l1', 'l2']\n",
    "\n",
    "# Зададим ограничения для параметра регуляризации\n",
    "C = np.logspace(0, 4, 10)\n",
    "\n",
    "multi_class = ['auto', 'ovr', 'multinomial']\n",
    "\n",
    "# Создадим гиперпараметры\n",
    "hyperparameters = dict(C=C, penalty=penalty, multi_class=multi_class)\n",
    "\n",
    "model = LogisticRegression(random_state=random_seed)\n",
    "model.fit(x_train, y_train)\n",
    "\n",
    "# Создаем сетку поиска с использованием 5-кратной перекрестной проверки\n",
    "clf = GridSearchCV(model, hyperparameters, cv=5, verbose=0)\n",
    "\n",
    "best_model = clf.fit(x_train, y_train)\n",
    "\n",
    "# Показать лучшие гиперпараметры\n",
    "print('Лучшее Penalty:', best_model.best_estimator_.get_params()['penalty'])\n",
    "print('Лучшее C:', best_model.best_estimator_.get_params()['C'])\n",
    "print('Лучшее multi_class:', best_model.best_estimator_.get_params()['multi_class'])"
   ]
  },
  {
   "cell_type": "markdown",
   "metadata": {},
   "source": [
    "## Модель с подобранными гиперпараметрами"
   ]
  },
  {
   "cell_type": "code",
   "execution_count": null,
   "metadata": {},
   "outputs": [],
   "source": [
    "model = LogisticRegression(penalty='l2', C=7.742636826811269, multi_class='multinomial', random_state=random_seed)\n",
    "model.fit(X, Y)\n",
    "\n",
    "probs = model.predict(X_test)"
   ]
  },
  {
   "cell_type": "code",
   "execution_count": null,
   "metadata": {},
   "outputs": [],
   "source": [
    "submission = pd.DataFrame()\n",
    "submission['client_id'] = df_test['client_id']\n",
    "submission['default'] = probs\n",
    "submission.to_csv('submission.csv', index=False)\n",
    "submission"
   ]
  }
 ],
 "metadata": {
  "kernelspec": {
   "display_name": "Python 3",
   "language": "python",
   "name": "python3"
  },
  "language_info": {
   "codemirror_mode": {
    "name": "ipython",
    "version": 3
   },
   "file_extension": ".py",
   "mimetype": "text/x-python",
   "name": "python",
   "nbconvert_exporter": "python",
   "pygments_lexer": "ipython3",
   "version": "3.8.3"
  }
 },
 "nbformat": 4,
 "nbformat_minor": 4
}
